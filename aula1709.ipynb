{
  "nbformat": 4,
  "nbformat_minor": 0,
  "metadata": {
    "colab": {
      "provenance": []
    },
    "kernelspec": {
      "name": "python3",
      "display_name": "Python 3"
    },
    "language_info": {
      "name": "python"
    }
  },
  "cells": [
    {
      "cell_type": "code",
      "execution_count": null,
      "metadata": {
        "id": "B_ImH5b32tUr"
      },
      "outputs": [],
      "source": [
        "import streamlit as st\n",
        "\n",
        "*FROM* deep_translator import GoogleTranslator\n",
        "\n",
        "\n",
        "\n",
        "st.title(\"Tradutor Multilíngue com Deep Translator\")\n",
        "\n",
        "\n",
        "\n",
        "texto = st.text_area(\"Digite uma frase em português\",\n",
        "\n",
        "\"Olá! Estou aprendendo a programar em Python e a usar modelos de inteligência artificial.\")\n",
        "\n",
        "\n",
        "\n",
        "linguas = {\n",
        "\n",
        "    \"Inglês\",\"en\",\n",
        "\n",
        "    \"Espanhol\", \"es\",\n",
        "\n",
        "}\n",
        "\n",
        "\n",
        "\n",
        "idiomas_escolhidos = st.multiselect(\"Selecione os idiomas de destino:\", list(linguas.keys()), [\"Inglês\", \"Espanhol\"])\n",
        "\n",
        "\n",
        "\n",
        "if st.button(\"Traduzir\"):\n",
        "\n",
        "    if texto.strip() == \"\":\n",
        "\n",
        "        st.warning(\"Digite uma frase para traduzir!\")\n",
        "\n",
        "    else:\n",
        "\n",
        "        for nome in idiomas_escolhidos:\n",
        "\n",
        "            codigo = linguas[nome]\n",
        "\n",
        "            traducao = GoogleTranslator(source='pt', target=codigo).translate(texto)\n",
        "\n",
        "            st.subheader(f'➡ Tradução para {nome} ({codigo})')\n",
        "\n",
        "            st.write(f'**Original:** {texto}')\n",
        "\n",
        "            st.write(f'**Traduzido:** {traducao}')\n",
        "\n",
        "            st.write(\"-\")"
      ]
    }
  ]
}